{
  "metadata": {
    "language_info": {
      "codemirror_mode": {
        "name": "python",
        "version": 3
      },
      "file_extension": ".py",
      "mimetype": "text/x-python",
      "name": "python",
      "nbconvert_exporter": "python",
      "pygments_lexer": "ipython3",
      "version": "3.8"
    },
    "kernelspec": {
      "name": "python",
      "display_name": "Python (Pyodide)",
      "language": "python"
    }
  },
  "nbformat_minor": 4,
  "nbformat": 4,
  "cells": [
    {
      "cell_type": "code",
      "source": "import pandas as pd\n",
      "metadata": {
        "trusted": true
      },
      "execution_count": 4,
      "outputs": []
    },
    {
      "cell_type": "code",
      "source": "df =  pd.read_csv('cart.csv' , parse_dates=['date'])",
      "metadata": {
        "trusted": true
      },
      "execution_count": 28,
      "outputs": []
    },
    {
      "cell_type": "code",
      "source": "df[\"amount\"].astype('Int32')",
      "metadata": {
        "trusted": true
      },
      "execution_count": 36,
      "outputs": [
        {
          "execution_count": 36,
          "output_type": "execute_result",
          "data": {
            "text/plain": "0       7\n1      12\n2    <NA>\n3       2\n4       6\n5       3\n6       5\nName: amount, dtype: Int32"
          },
          "metadata": {}
        }
      ]
    },
    {
      "cell_type": "code",
      "source": "df.isnull()",
      "metadata": {
        "trusted": true
      },
      "execution_count": 37,
      "outputs": [
        {
          "execution_count": 37,
          "output_type": "execute_result",
          "data": {
            "text/plain": "    date   name  amount  price\n0  False  False   False  False\n1  False  False   False  False\n2  False  False    True  False\n3  False  False   False   True\n4   True  False   False  False\n5  False  False   False  False\n6  False   True   False  False",
            "text/html": "<div>\n<style scoped>\n    .dataframe tbody tr th:only-of-type {\n        vertical-align: middle;\n    }\n\n    .dataframe tbody tr th {\n        vertical-align: top;\n    }\n\n    .dataframe thead th {\n        text-align: right;\n    }\n</style>\n<table border=\"1\" class=\"dataframe\">\n  <thead>\n    <tr style=\"text-align: right;\">\n      <th></th>\n      <th>date</th>\n      <th>name</th>\n      <th>amount</th>\n      <th>price</th>\n    </tr>\n  </thead>\n  <tbody>\n    <tr>\n      <th>0</th>\n      <td>False</td>\n      <td>False</td>\n      <td>False</td>\n      <td>False</td>\n    </tr>\n    <tr>\n      <th>1</th>\n      <td>False</td>\n      <td>False</td>\n      <td>False</td>\n      <td>False</td>\n    </tr>\n    <tr>\n      <th>2</th>\n      <td>False</td>\n      <td>False</td>\n      <td>True</td>\n      <td>False</td>\n    </tr>\n    <tr>\n      <th>3</th>\n      <td>False</td>\n      <td>False</td>\n      <td>False</td>\n      <td>True</td>\n    </tr>\n    <tr>\n      <th>4</th>\n      <td>True</td>\n      <td>False</td>\n      <td>False</td>\n      <td>False</td>\n    </tr>\n    <tr>\n      <th>5</th>\n      <td>False</td>\n      <td>False</td>\n      <td>False</td>\n      <td>False</td>\n    </tr>\n    <tr>\n      <th>6</th>\n      <td>False</td>\n      <td>True</td>\n      <td>False</td>\n      <td>False</td>\n    </tr>\n  </tbody>\n</table>\n</div>"
          },
          "metadata": {}
        }
      ]
    },
    {
      "cell_type": "code",
      "source": "df.isnull().any(axis=1)",
      "metadata": {
        "trusted": true
      },
      "execution_count": 38,
      "outputs": [
        {
          "execution_count": 38,
          "output_type": "execute_result",
          "data": {
            "text/plain": "0    False\n1    False\n2     True\n3     True\n4     True\n5    False\n6     True\ndtype: bool"
          },
          "metadata": {}
        }
      ]
    },
    {
      "cell_type": "code",
      "source": "df = pd.read_csv('metrics.csv' , parse_dates=['time'])\ndf.sample(10)",
      "metadata": {
        "trusted": true
      },
      "execution_count": 39,
      "outputs": [
        {
          "execution_count": 39,
          "output_type": "execute_result",
          "data": {
            "text/plain": "                      time name         value\n15 2021-07-13 14:36:59.079  mem  2.275251e+08\n32 2021-07-13 14:37:07.692  mem  2.275167e+08\n7  2021-07-13 14:36:55.251  cpu  3.188000e+01\n65 2021-07-13 14:37:23.004  cpu  3.298000e+01\n82 2021-07-13 14:37:31.617  cpu  3.719000e+01\n39 2021-07-13 14:37:10.563  mem  2.275438e+08\n12 2021-07-13 14:36:58.122  mem  2.275156e+08\n63 2021-07-13 14:37:22.047  mem  2.275327e+08\n13 2021-07-13 14:36:58.122  cpu  3.233000e+01\n51 2021-07-13 14:37:16.305  mem  2.275561e+08",
            "text/html": "<div>\n<style scoped>\n    .dataframe tbody tr th:only-of-type {\n        vertical-align: middle;\n    }\n\n    .dataframe tbody tr th {\n        vertical-align: top;\n    }\n\n    .dataframe thead th {\n        text-align: right;\n    }\n</style>\n<table border=\"1\" class=\"dataframe\">\n  <thead>\n    <tr style=\"text-align: right;\">\n      <th></th>\n      <th>time</th>\n      <th>name</th>\n      <th>value</th>\n    </tr>\n  </thead>\n  <tbody>\n    <tr>\n      <th>15</th>\n      <td>2021-07-13 14:36:59.079</td>\n      <td>mem</td>\n      <td>2.275251e+08</td>\n    </tr>\n    <tr>\n      <th>32</th>\n      <td>2021-07-13 14:37:07.692</td>\n      <td>mem</td>\n      <td>2.275167e+08</td>\n    </tr>\n    <tr>\n      <th>7</th>\n      <td>2021-07-13 14:36:55.251</td>\n      <td>cpu</td>\n      <td>3.188000e+01</td>\n    </tr>\n    <tr>\n      <th>65</th>\n      <td>2021-07-13 14:37:23.004</td>\n      <td>cpu</td>\n      <td>3.298000e+01</td>\n    </tr>\n    <tr>\n      <th>82</th>\n      <td>2021-07-13 14:37:31.617</td>\n      <td>cpu</td>\n      <td>3.719000e+01</td>\n    </tr>\n    <tr>\n      <th>39</th>\n      <td>2021-07-13 14:37:10.563</td>\n      <td>mem</td>\n      <td>2.275438e+08</td>\n    </tr>\n    <tr>\n      <th>12</th>\n      <td>2021-07-13 14:36:58.122</td>\n      <td>mem</td>\n      <td>2.275156e+08</td>\n    </tr>\n    <tr>\n      <th>63</th>\n      <td>2021-07-13 14:37:22.047</td>\n      <td>mem</td>\n      <td>2.275327e+08</td>\n    </tr>\n    <tr>\n      <th>13</th>\n      <td>2021-07-13 14:36:58.122</td>\n      <td>cpu</td>\n      <td>3.233000e+01</td>\n    </tr>\n    <tr>\n      <th>51</th>\n      <td>2021-07-13 14:37:16.305</td>\n      <td>mem</td>\n      <td>2.275561e+08</td>\n    </tr>\n  </tbody>\n</table>\n</div>"
          },
          "metadata": {}
        }
      ]
    },
    {
      "cell_type": "code",
      "source": "df.groupby('name').describe()",
      "metadata": {
        "trusted": true
      },
      "execution_count": 13,
      "outputs": [
        {
          "execution_count": 13,
          "output_type": "execute_result",
          "data": {
            "text/plain": "     value                                                                  \\\n     count          mean           std     min           25%           50%   \nname                                                                         \nCPU    1.0  3.040000e+01           NaN   30.40  3.040000e+01  3.040000e+01   \ncpu   49.0  3.645633e+01  3.977927e+01  -32.14  2.956000e+01  3.157000e+01   \nmem   50.0  2.229711e+08  3.217637e+07  295.00  2.275070e+08  2.275188e+08   \n\n                                 \n               75%          max  \nname                             \nCPU   3.040000e+01         30.4  \ncpu   3.507000e+01        300.9  \nmem   2.275342e+08  227556054.0  ",
            "text/html": "<div>\n<style scoped>\n    .dataframe tbody tr th:only-of-type {\n        vertical-align: middle;\n    }\n\n    .dataframe tbody tr th {\n        vertical-align: top;\n    }\n\n    .dataframe thead tr th {\n        text-align: left;\n    }\n\n    .dataframe thead tr:last-of-type th {\n        text-align: right;\n    }\n</style>\n<table border=\"1\" class=\"dataframe\">\n  <thead>\n    <tr>\n      <th></th>\n      <th colspan=\"8\" halign=\"left\">value</th>\n    </tr>\n    <tr>\n      <th></th>\n      <th>count</th>\n      <th>mean</th>\n      <th>std</th>\n      <th>min</th>\n      <th>25%</th>\n      <th>50%</th>\n      <th>75%</th>\n      <th>max</th>\n    </tr>\n    <tr>\n      <th>name</th>\n      <th></th>\n      <th></th>\n      <th></th>\n      <th></th>\n      <th></th>\n      <th></th>\n      <th></th>\n      <th></th>\n    </tr>\n  </thead>\n  <tbody>\n    <tr>\n      <th>CPU</th>\n      <td>1.0</td>\n      <td>3.040000e+01</td>\n      <td>NaN</td>\n      <td>30.40</td>\n      <td>3.040000e+01</td>\n      <td>3.040000e+01</td>\n      <td>3.040000e+01</td>\n      <td>30.4</td>\n    </tr>\n    <tr>\n      <th>cpu</th>\n      <td>49.0</td>\n      <td>3.645633e+01</td>\n      <td>3.977927e+01</td>\n      <td>-32.14</td>\n      <td>2.956000e+01</td>\n      <td>3.157000e+01</td>\n      <td>3.507000e+01</td>\n      <td>300.9</td>\n    </tr>\n    <tr>\n      <th>mem</th>\n      <td>50.0</td>\n      <td>2.229711e+08</td>\n      <td>3.217637e+07</td>\n      <td>295.00</td>\n      <td>2.275070e+08</td>\n      <td>2.275188e+08</td>\n      <td>2.275342e+08</td>\n      <td>227556054.0</td>\n    </tr>\n  </tbody>\n</table>\n</div>"
          },
          "metadata": {}
        }
      ]
    },
    {
      "cell_type": "code",
      "source": "df['name'].value_counts()",
      "metadata": {
        "trusted": true
      },
      "execution_count": 15,
      "outputs": [
        {
          "execution_count": 15,
          "output_type": "execute_result",
          "data": {
            "text/plain": "mem    50\ncpu    49\nCPU     1\nName: name, dtype: int64"
          },
          "metadata": {}
        }
      ]
    },
    {
      "cell_type": "code",
      "source": "df =  pd.read_csv('cart-dup.csv' , parse_dates=['date'])\ndf",
      "metadata": {
        "trusted": true
      },
      "execution_count": 24,
      "outputs": [
        {
          "execution_count": 24,
          "output_type": "execute_result",
          "data": {
            "text/plain": "        date    name  amount  price\n0 2021-03-01  carrot       7   5.73\n1 2021-03-01     egg      12   1.70\n2 2021-03-01     egg      12   1.20\n3 2021-03-01    milk       1   3.57\n4 2021-03-02  potato       3   2.17\n5 2021-03-02  potato       3   2.17",
            "text/html": "<div>\n<style scoped>\n    .dataframe tbody tr th:only-of-type {\n        vertical-align: middle;\n    }\n\n    .dataframe tbody tr th {\n        vertical-align: top;\n    }\n\n    .dataframe thead th {\n        text-align: right;\n    }\n</style>\n<table border=\"1\" class=\"dataframe\">\n  <thead>\n    <tr style=\"text-align: right;\">\n      <th></th>\n      <th>date</th>\n      <th>name</th>\n      <th>amount</th>\n      <th>price</th>\n    </tr>\n  </thead>\n  <tbody>\n    <tr>\n      <th>0</th>\n      <td>2021-03-01</td>\n      <td>carrot</td>\n      <td>7</td>\n      <td>5.73</td>\n    </tr>\n    <tr>\n      <th>1</th>\n      <td>2021-03-01</td>\n      <td>egg</td>\n      <td>12</td>\n      <td>1.70</td>\n    </tr>\n    <tr>\n      <th>2</th>\n      <td>2021-03-01</td>\n      <td>egg</td>\n      <td>12</td>\n      <td>1.20</td>\n    </tr>\n    <tr>\n      <th>3</th>\n      <td>2021-03-01</td>\n      <td>milk</td>\n      <td>1</td>\n      <td>3.57</td>\n    </tr>\n    <tr>\n      <th>4</th>\n      <td>2021-03-02</td>\n      <td>potato</td>\n      <td>3</td>\n      <td>2.17</td>\n    </tr>\n    <tr>\n      <th>5</th>\n      <td>2021-03-02</td>\n      <td>potato</td>\n      <td>3</td>\n      <td>2.17</td>\n    </tr>\n  </tbody>\n</table>\n</div>"
          },
          "metadata": {}
        }
      ]
    },
    {
      "cell_type": "code",
      "source": "df.duplicated()",
      "metadata": {
        "trusted": true
      },
      "execution_count": 25,
      "outputs": [
        {
          "execution_count": 25,
          "output_type": "execute_result",
          "data": {
            "text/plain": "0    False\n1    False\n2    False\n3    False\n4    False\n5     True\ndtype: bool"
          },
          "metadata": {}
        }
      ]
    },
    {
      "cell_type": "code",
      "source": "df.duplicated(['date', 'name'])",
      "metadata": {
        "trusted": true
      },
      "execution_count": 26,
      "outputs": [
        {
          "execution_count": 26,
          "output_type": "execute_result",
          "data": {
            "text/plain": "0    False\n1    False\n2     True\n3    False\n4    False\n5     True\ndtype: bool"
          },
          "metadata": {}
        }
      ]
    },
    {
      "cell_type": "markdown",
      "source": "# a. Derive an index field and add it to the data set.",
      "metadata": {}
    },
    {
      "cell_type": "code",
      "source": "data = pd.read_csv('employees.csv')\ndata.head()",
      "metadata": {
        "trusted": true
      },
      "execution_count": 43,
      "outputs": [
        {
          "execution_count": 43,
          "output_type": "execute_result",
          "data": {
            "text/plain": "  First Name  Gender Start Date Last Login Time  Salary  Bonus %  \\\n0    Douglas    Male   8/6/1993        12:42 PM   97308    6.945   \n1     Thomas    Male  3/31/1996         6:53 AM   61933    4.170   \n2      Maria  Female  4/23/1993        11:17 AM  130590   11.858   \n3      Jerry    Male   3/4/2005         1:00 PM  138705    9.340   \n4      Larry    Male  1/24/1998         4:47 PM  101004    1.389   \n\n  Senior Management             Team  \n0              True        Marketing  \n1              True              NaN  \n2             False          Finance  \n3              True          Finance  \n4              True  Client Services  ",
            "text/html": "<div>\n<style scoped>\n    .dataframe tbody tr th:only-of-type {\n        vertical-align: middle;\n    }\n\n    .dataframe tbody tr th {\n        vertical-align: top;\n    }\n\n    .dataframe thead th {\n        text-align: right;\n    }\n</style>\n<table border=\"1\" class=\"dataframe\">\n  <thead>\n    <tr style=\"text-align: right;\">\n      <th></th>\n      <th>First Name</th>\n      <th>Gender</th>\n      <th>Start Date</th>\n      <th>Last Login Time</th>\n      <th>Salary</th>\n      <th>Bonus %</th>\n      <th>Senior Management</th>\n      <th>Team</th>\n    </tr>\n  </thead>\n  <tbody>\n    <tr>\n      <th>0</th>\n      <td>Douglas</td>\n      <td>Male</td>\n      <td>8/6/1993</td>\n      <td>12:42 PM</td>\n      <td>97308</td>\n      <td>6.945</td>\n      <td>True</td>\n      <td>Marketing</td>\n    </tr>\n    <tr>\n      <th>1</th>\n      <td>Thomas</td>\n      <td>Male</td>\n      <td>3/31/1996</td>\n      <td>6:53 AM</td>\n      <td>61933</td>\n      <td>4.170</td>\n      <td>True</td>\n      <td>NaN</td>\n    </tr>\n    <tr>\n      <th>2</th>\n      <td>Maria</td>\n      <td>Female</td>\n      <td>4/23/1993</td>\n      <td>11:17 AM</td>\n      <td>130590</td>\n      <td>11.858</td>\n      <td>False</td>\n      <td>Finance</td>\n    </tr>\n    <tr>\n      <th>3</th>\n      <td>Jerry</td>\n      <td>Male</td>\n      <td>3/4/2005</td>\n      <td>1:00 PM</td>\n      <td>138705</td>\n      <td>9.340</td>\n      <td>True</td>\n      <td>Finance</td>\n    </tr>\n    <tr>\n      <th>4</th>\n      <td>Larry</td>\n      <td>Male</td>\n      <td>1/24/1998</td>\n      <td>4:47 PM</td>\n      <td>101004</td>\n      <td>1.389</td>\n      <td>True</td>\n      <td>Client Services</td>\n    </tr>\n  </tbody>\n</table>\n</div>"
          },
          "metadata": {}
        }
      ]
    },
    {
      "cell_type": "code",
      "source": "#setting first name as index column\ndata.set_index(\"First Name\" , inplace= True)\n\n#display\ndata.head()",
      "metadata": {
        "trusted": true
      },
      "execution_count": 45,
      "outputs": [
        {
          "execution_count": 45,
          "output_type": "execute_result",
          "data": {
            "text/plain": "            Gender Start Date Last Login Time  Salary  Bonus %  \\\nFirst Name                                                       \nDouglas       Male   8/6/1993        12:42 PM   97308    6.945   \nThomas        Male  3/31/1996         6:53 AM   61933    4.170   \nMaria       Female  4/23/1993        11:17 AM  130590   11.858   \nJerry         Male   3/4/2005         1:00 PM  138705    9.340   \nLarry         Male  1/24/1998         4:47 PM  101004    1.389   \n\n           Senior Management             Team  \nFirst Name                                     \nDouglas                 True        Marketing  \nThomas                  True              NaN  \nMaria                  False          Finance  \nJerry                   True          Finance  \nLarry                   True  Client Services  ",
            "text/html": "<div>\n<style scoped>\n    .dataframe tbody tr th:only-of-type {\n        vertical-align: middle;\n    }\n\n    .dataframe tbody tr th {\n        vertical-align: top;\n    }\n\n    .dataframe thead th {\n        text-align: right;\n    }\n</style>\n<table border=\"1\" class=\"dataframe\">\n  <thead>\n    <tr style=\"text-align: right;\">\n      <th></th>\n      <th>Gender</th>\n      <th>Start Date</th>\n      <th>Last Login Time</th>\n      <th>Salary</th>\n      <th>Bonus %</th>\n      <th>Senior Management</th>\n      <th>Team</th>\n    </tr>\n    <tr>\n      <th>First Name</th>\n      <th></th>\n      <th></th>\n      <th></th>\n      <th></th>\n      <th></th>\n      <th></th>\n      <th></th>\n    </tr>\n  </thead>\n  <tbody>\n    <tr>\n      <th>Douglas</th>\n      <td>Male</td>\n      <td>8/6/1993</td>\n      <td>12:42 PM</td>\n      <td>97308</td>\n      <td>6.945</td>\n      <td>True</td>\n      <td>Marketing</td>\n    </tr>\n    <tr>\n      <th>Thomas</th>\n      <td>Male</td>\n      <td>3/31/1996</td>\n      <td>6:53 AM</td>\n      <td>61933</td>\n      <td>4.170</td>\n      <td>True</td>\n      <td>NaN</td>\n    </tr>\n    <tr>\n      <th>Maria</th>\n      <td>Female</td>\n      <td>4/23/1993</td>\n      <td>11:17 AM</td>\n      <td>130590</td>\n      <td>11.858</td>\n      <td>False</td>\n      <td>Finance</td>\n    </tr>\n    <tr>\n      <th>Jerry</th>\n      <td>Male</td>\n      <td>3/4/2005</td>\n      <td>1:00 PM</td>\n      <td>138705</td>\n      <td>9.340</td>\n      <td>True</td>\n      <td>Finance</td>\n    </tr>\n    <tr>\n      <th>Larry</th>\n      <td>Male</td>\n      <td>1/24/1998</td>\n      <td>4:47 PM</td>\n      <td>101004</td>\n      <td>1.389</td>\n      <td>True</td>\n      <td>Client Services</td>\n    </tr>\n  </tbody>\n</table>\n</div>"
          },
          "metadata": {}
        }
      ]
    },
    {
      "cell_type": "code",
      "source": "#setting first name as index column\ndata.set_index([\"Salary\" , \"Gender\"] , inplace= True , append=True, drop=False)\n\n#display\ndata.head()",
      "metadata": {
        "trusted": true
      },
      "execution_count": 46,
      "outputs": [
        {
          "execution_count": 46,
          "output_type": "execute_result",
          "data": {
            "text/plain": "                          Gender Start Date Last Login Time  Salary  Bonus %  \\\nFirst Name Salary Gender                                                       \nDouglas    97308  Male      Male   8/6/1993        12:42 PM   97308    6.945   \nThomas     61933  Male      Male  3/31/1996         6:53 AM   61933    4.170   \nMaria      130590 Female  Female  4/23/1993        11:17 AM  130590   11.858   \nJerry      138705 Male      Male   3/4/2005         1:00 PM  138705    9.340   \nLarry      101004 Male      Male  1/24/1998         4:47 PM  101004    1.389   \n\n                         Senior Management             Team  \nFirst Name Salary Gender                                     \nDouglas    97308  Male                True        Marketing  \nThomas     61933  Male                True              NaN  \nMaria      130590 Female             False          Finance  \nJerry      138705 Male                True          Finance  \nLarry      101004 Male                True  Client Services  ",
            "text/html": "<div>\n<style scoped>\n    .dataframe tbody tr th:only-of-type {\n        vertical-align: middle;\n    }\n\n    .dataframe tbody tr th {\n        vertical-align: top;\n    }\n\n    .dataframe thead th {\n        text-align: right;\n    }\n</style>\n<table border=\"1\" class=\"dataframe\">\n  <thead>\n    <tr style=\"text-align: right;\">\n      <th></th>\n      <th></th>\n      <th></th>\n      <th>Gender</th>\n      <th>Start Date</th>\n      <th>Last Login Time</th>\n      <th>Salary</th>\n      <th>Bonus %</th>\n      <th>Senior Management</th>\n      <th>Team</th>\n    </tr>\n    <tr>\n      <th>First Name</th>\n      <th>Salary</th>\n      <th>Gender</th>\n      <th></th>\n      <th></th>\n      <th></th>\n      <th></th>\n      <th></th>\n      <th></th>\n      <th></th>\n    </tr>\n  </thead>\n  <tbody>\n    <tr>\n      <th>Douglas</th>\n      <th>97308</th>\n      <th>Male</th>\n      <td>Male</td>\n      <td>8/6/1993</td>\n      <td>12:42 PM</td>\n      <td>97308</td>\n      <td>6.945</td>\n      <td>True</td>\n      <td>Marketing</td>\n    </tr>\n    <tr>\n      <th>Thomas</th>\n      <th>61933</th>\n      <th>Male</th>\n      <td>Male</td>\n      <td>3/31/1996</td>\n      <td>6:53 AM</td>\n      <td>61933</td>\n      <td>4.170</td>\n      <td>True</td>\n      <td>NaN</td>\n    </tr>\n    <tr>\n      <th>Maria</th>\n      <th>130590</th>\n      <th>Female</th>\n      <td>Female</td>\n      <td>4/23/1993</td>\n      <td>11:17 AM</td>\n      <td>130590</td>\n      <td>11.858</td>\n      <td>False</td>\n      <td>Finance</td>\n    </tr>\n    <tr>\n      <th>Jerry</th>\n      <th>138705</th>\n      <th>Male</th>\n      <td>Male</td>\n      <td>3/4/2005</td>\n      <td>1:00 PM</td>\n      <td>138705</td>\n      <td>9.340</td>\n      <td>True</td>\n      <td>Finance</td>\n    </tr>\n    <tr>\n      <th>Larry</th>\n      <th>101004</th>\n      <th>Male</th>\n      <td>Male</td>\n      <td>1/24/1998</td>\n      <td>4:47 PM</td>\n      <td>101004</td>\n      <td>1.389</td>\n      <td>True</td>\n      <td>Client Services</td>\n    </tr>\n  </tbody>\n</table>\n</div>"
          },
          "metadata": {}
        }
      ]
    },
    {
      "cell_type": "markdown",
      "source": "# b. Find out the missing values.",
      "metadata": {}
    },
    {
      "cell_type": "code",
      "source": "import numpy as np\n\ndict = {'First Score': [100,90,np.nan,95],\n        'Second Score': [30,45,56,np.nan],\n        'Third Score': [np.nan,40,80,98]\n}\n\ndf = pd.DataFrame(dict)\ndf.isnull()",
      "metadata": {
        "trusted": true
      },
      "execution_count": 51,
      "outputs": [
        {
          "execution_count": 51,
          "output_type": "execute_result",
          "data": {
            "text/plain": "   First Score  Second Score  Third Score\n0        False         False         True\n1        False         False        False\n2         True         False        False\n3        False          True        False",
            "text/html": "<div>\n<style scoped>\n    .dataframe tbody tr th:only-of-type {\n        vertical-align: middle;\n    }\n\n    .dataframe tbody tr th {\n        vertical-align: top;\n    }\n\n    .dataframe thead th {\n        text-align: right;\n    }\n</style>\n<table border=\"1\" class=\"dataframe\">\n  <thead>\n    <tr style=\"text-align: right;\">\n      <th></th>\n      <th>First Score</th>\n      <th>Second Score</th>\n      <th>Third Score</th>\n    </tr>\n  </thead>\n  <tbody>\n    <tr>\n      <th>0</th>\n      <td>False</td>\n      <td>False</td>\n      <td>True</td>\n    </tr>\n    <tr>\n      <th>1</th>\n      <td>False</td>\n      <td>False</td>\n      <td>False</td>\n    </tr>\n    <tr>\n      <th>2</th>\n      <td>True</td>\n      <td>False</td>\n      <td>False</td>\n    </tr>\n    <tr>\n      <th>3</th>\n      <td>False</td>\n      <td>True</td>\n      <td>False</td>\n    </tr>\n  </tbody>\n</table>\n</div>"
          },
          "metadata": {}
        }
      ]
    },
    {
      "cell_type": "code",
      "source": "import numpy as np\n\ndict = {'First Score': [100,90,np.nan,95],\n        'Second Score': [30,45,56,np.nan],\n        'Third Score': [np.nan,40,80,98]\n}\n\ndf = pd.DataFrame(dict)\ndf.notnull()",
      "metadata": {
        "trusted": true
      },
      "execution_count": 52,
      "outputs": [
        {
          "execution_count": 52,
          "output_type": "execute_result",
          "data": {
            "text/plain": "   First Score  Second Score  Third Score\n0         True          True        False\n1         True          True         True\n2        False          True         True\n3         True         False         True",
            "text/html": "<div>\n<style scoped>\n    .dataframe tbody tr th:only-of-type {\n        vertical-align: middle;\n    }\n\n    .dataframe tbody tr th {\n        vertical-align: top;\n    }\n\n    .dataframe thead th {\n        text-align: right;\n    }\n</style>\n<table border=\"1\" class=\"dataframe\">\n  <thead>\n    <tr style=\"text-align: right;\">\n      <th></th>\n      <th>First Score</th>\n      <th>Second Score</th>\n      <th>Third Score</th>\n    </tr>\n  </thead>\n  <tbody>\n    <tr>\n      <th>0</th>\n      <td>True</td>\n      <td>True</td>\n      <td>False</td>\n    </tr>\n    <tr>\n      <th>1</th>\n      <td>True</td>\n      <td>True</td>\n      <td>True</td>\n    </tr>\n    <tr>\n      <th>2</th>\n      <td>False</td>\n      <td>True</td>\n      <td>True</td>\n    </tr>\n    <tr>\n      <th>3</th>\n      <td>True</td>\n      <td>False</td>\n      <td>True</td>\n    </tr>\n  </tbody>\n</table>\n</div>"
          },
          "metadata": {}
        }
      ]
    },
    {
      "cell_type": "markdown",
      "source": "# Handling missing values",
      "metadata": {}
    },
    {
      "cell_type": "code",
      "source": "import numpy as np\n\ndict = {'First Score': [100,90,np.nan,95],\n        'Second Score': [30,45,56,np.nan],\n        'Third Score': [np.nan,40,80,98]\n}\n\ndf = pd.DataFrame(dict)\ndf.fillna(0)",
      "metadata": {
        "trusted": true
      },
      "execution_count": 53,
      "outputs": [
        {
          "execution_count": 53,
          "output_type": "execute_result",
          "data": {
            "text/plain": "   First Score  Second Score  Third Score\n0        100.0          30.0          0.0\n1         90.0          45.0         40.0\n2          0.0          56.0         80.0\n3         95.0           0.0         98.0",
            "text/html": "<div>\n<style scoped>\n    .dataframe tbody tr th:only-of-type {\n        vertical-align: middle;\n    }\n\n    .dataframe tbody tr th {\n        vertical-align: top;\n    }\n\n    .dataframe thead th {\n        text-align: right;\n    }\n</style>\n<table border=\"1\" class=\"dataframe\">\n  <thead>\n    <tr style=\"text-align: right;\">\n      <th></th>\n      <th>First Score</th>\n      <th>Second Score</th>\n      <th>Third Score</th>\n    </tr>\n  </thead>\n  <tbody>\n    <tr>\n      <th>0</th>\n      <td>100.0</td>\n      <td>30.0</td>\n      <td>0.0</td>\n    </tr>\n    <tr>\n      <th>1</th>\n      <td>90.0</td>\n      <td>45.0</td>\n      <td>40.0</td>\n    </tr>\n    <tr>\n      <th>2</th>\n      <td>0.0</td>\n      <td>56.0</td>\n      <td>80.0</td>\n    </tr>\n    <tr>\n      <th>3</th>\n      <td>95.0</td>\n      <td>0.0</td>\n      <td>98.0</td>\n    </tr>\n  </tbody>\n</table>\n</div>"
          },
          "metadata": {}
        }
      ]
    },
    {
      "cell_type": "code",
      "source": "import numpy as np\n\ndict = {'First Score': [100,90,np.nan,95],\n        'Second Score': [30,45,56,np.nan],\n        'Third Score': [np.nan,40,80,98]\n}\n\ndf = pd.DataFrame(dict)\n#filling value from previous row\ndf.fillna(method= 'pad')",
      "metadata": {
        "trusted": true
      },
      "execution_count": 55,
      "outputs": [
        {
          "execution_count": 55,
          "output_type": "execute_result",
          "data": {
            "text/plain": "   First Score  Second Score  Third Score\n0        100.0          30.0          NaN\n1         90.0          45.0         40.0\n2         90.0          56.0         80.0\n3         95.0          56.0         98.0",
            "text/html": "<div>\n<style scoped>\n    .dataframe tbody tr th:only-of-type {\n        vertical-align: middle;\n    }\n\n    .dataframe tbody tr th {\n        vertical-align: top;\n    }\n\n    .dataframe thead th {\n        text-align: right;\n    }\n</style>\n<table border=\"1\" class=\"dataframe\">\n  <thead>\n    <tr style=\"text-align: right;\">\n      <th></th>\n      <th>First Score</th>\n      <th>Second Score</th>\n      <th>Third Score</th>\n    </tr>\n  </thead>\n  <tbody>\n    <tr>\n      <th>0</th>\n      <td>100.0</td>\n      <td>30.0</td>\n      <td>NaN</td>\n    </tr>\n    <tr>\n      <th>1</th>\n      <td>90.0</td>\n      <td>45.0</td>\n      <td>40.0</td>\n    </tr>\n    <tr>\n      <th>2</th>\n      <td>90.0</td>\n      <td>56.0</td>\n      <td>80.0</td>\n    </tr>\n    <tr>\n      <th>3</th>\n      <td>95.0</td>\n      <td>56.0</td>\n      <td>98.0</td>\n    </tr>\n  </tbody>\n</table>\n</div>"
          },
          "metadata": {}
        }
      ]
    },
    {
      "cell_type": "code",
      "source": "import numpy as np\n\ndict = {'First Score': [100,90,np.nan,95],\n        'Second Score': [30,45,56,np.nan],\n        'Third Score': [np.nan,40,80,98]\n}\n\ndf = pd.DataFrame(dict)\n#next row\ndf.bfill()",
      "metadata": {
        "trusted": true
      },
      "execution_count": 56,
      "outputs": [
        {
          "execution_count": 56,
          "output_type": "execute_result",
          "data": {
            "text/plain": "   First Score  Second Score  Third Score\n0        100.0          30.0         40.0\n1         90.0          45.0         40.0\n2         95.0          56.0         80.0\n3         95.0           NaN         98.0",
            "text/html": "<div>\n<style scoped>\n    .dataframe tbody tr th:only-of-type {\n        vertical-align: middle;\n    }\n\n    .dataframe tbody tr th {\n        vertical-align: top;\n    }\n\n    .dataframe thead th {\n        text-align: right;\n    }\n</style>\n<table border=\"1\" class=\"dataframe\">\n  <thead>\n    <tr style=\"text-align: right;\">\n      <th></th>\n      <th>First Score</th>\n      <th>Second Score</th>\n      <th>Third Score</th>\n    </tr>\n  </thead>\n  <tbody>\n    <tr>\n      <th>0</th>\n      <td>100.0</td>\n      <td>30.0</td>\n      <td>40.0</td>\n    </tr>\n    <tr>\n      <th>1</th>\n      <td>90.0</td>\n      <td>45.0</td>\n      <td>40.0</td>\n    </tr>\n    <tr>\n      <th>2</th>\n      <td>95.0</td>\n      <td>56.0</td>\n      <td>80.0</td>\n    </tr>\n    <tr>\n      <th>3</th>\n      <td>95.0</td>\n      <td>NaN</td>\n      <td>98.0</td>\n    </tr>\n  </tbody>\n</table>\n</div>"
          },
          "metadata": {}
        }
      ]
    },
    {
      "cell_type": "code",
      "source": "import numpy as np\n\ndata = pd.read_csv('employees.csv')\n\n#will replace nan value with -99\ndata.replace(to_replace =  np.nan , value = -99)",
      "metadata": {
        "trusted": true
      },
      "execution_count": 58,
      "outputs": [
        {
          "execution_count": 58,
          "output_type": "execute_result",
          "data": {
            "text/plain": "    First Name  Gender  Start Date Last Login Time  Salary  Bonus %  \\\n0      Douglas    Male    8/6/1993        12:42 PM   97308    6.945   \n1       Thomas    Male   3/31/1996         6:53 AM   61933    4.170   \n2        Maria  Female   4/23/1993        11:17 AM  130590   11.858   \n3        Jerry    Male    3/4/2005         1:00 PM  138705    9.340   \n4        Larry    Male   1/24/1998         4:47 PM  101004    1.389   \n..         ...     ...         ...             ...     ...      ...   \n995      Henry     -99  11/23/2014         6:09 AM  132483   16.655   \n996    Phillip    Male   1/31/1984         6:30 AM   42392   19.675   \n997    Russell    Male   5/20/2013        12:39 PM   96914    1.421   \n998      Larry    Male   4/20/2013         4:45 PM   60500   11.985   \n999     Albert    Male   5/15/2012         6:24 PM  129949   10.169   \n\n    Senior Management                  Team  \n0                True             Marketing  \n1                True                   -99  \n2               False               Finance  \n3                True               Finance  \n4                True       Client Services  \n..                ...                   ...  \n995             False          Distribution  \n996             False               Finance  \n997             False               Product  \n998             False  Business Development  \n999              True                 Sales  \n\n[1000 rows x 8 columns]",
            "text/html": "<div>\n<style scoped>\n    .dataframe tbody tr th:only-of-type {\n        vertical-align: middle;\n    }\n\n    .dataframe tbody tr th {\n        vertical-align: top;\n    }\n\n    .dataframe thead th {\n        text-align: right;\n    }\n</style>\n<table border=\"1\" class=\"dataframe\">\n  <thead>\n    <tr style=\"text-align: right;\">\n      <th></th>\n      <th>First Name</th>\n      <th>Gender</th>\n      <th>Start Date</th>\n      <th>Last Login Time</th>\n      <th>Salary</th>\n      <th>Bonus %</th>\n      <th>Senior Management</th>\n      <th>Team</th>\n    </tr>\n  </thead>\n  <tbody>\n    <tr>\n      <th>0</th>\n      <td>Douglas</td>\n      <td>Male</td>\n      <td>8/6/1993</td>\n      <td>12:42 PM</td>\n      <td>97308</td>\n      <td>6.945</td>\n      <td>True</td>\n      <td>Marketing</td>\n    </tr>\n    <tr>\n      <th>1</th>\n      <td>Thomas</td>\n      <td>Male</td>\n      <td>3/31/1996</td>\n      <td>6:53 AM</td>\n      <td>61933</td>\n      <td>4.170</td>\n      <td>True</td>\n      <td>-99</td>\n    </tr>\n    <tr>\n      <th>2</th>\n      <td>Maria</td>\n      <td>Female</td>\n      <td>4/23/1993</td>\n      <td>11:17 AM</td>\n      <td>130590</td>\n      <td>11.858</td>\n      <td>False</td>\n      <td>Finance</td>\n    </tr>\n    <tr>\n      <th>3</th>\n      <td>Jerry</td>\n      <td>Male</td>\n      <td>3/4/2005</td>\n      <td>1:00 PM</td>\n      <td>138705</td>\n      <td>9.340</td>\n      <td>True</td>\n      <td>Finance</td>\n    </tr>\n    <tr>\n      <th>4</th>\n      <td>Larry</td>\n      <td>Male</td>\n      <td>1/24/1998</td>\n      <td>4:47 PM</td>\n      <td>101004</td>\n      <td>1.389</td>\n      <td>True</td>\n      <td>Client Services</td>\n    </tr>\n    <tr>\n      <th>...</th>\n      <td>...</td>\n      <td>...</td>\n      <td>...</td>\n      <td>...</td>\n      <td>...</td>\n      <td>...</td>\n      <td>...</td>\n      <td>...</td>\n    </tr>\n    <tr>\n      <th>995</th>\n      <td>Henry</td>\n      <td>-99</td>\n      <td>11/23/2014</td>\n      <td>6:09 AM</td>\n      <td>132483</td>\n      <td>16.655</td>\n      <td>False</td>\n      <td>Distribution</td>\n    </tr>\n    <tr>\n      <th>996</th>\n      <td>Phillip</td>\n      <td>Male</td>\n      <td>1/31/1984</td>\n      <td>6:30 AM</td>\n      <td>42392</td>\n      <td>19.675</td>\n      <td>False</td>\n      <td>Finance</td>\n    </tr>\n    <tr>\n      <th>997</th>\n      <td>Russell</td>\n      <td>Male</td>\n      <td>5/20/2013</td>\n      <td>12:39 PM</td>\n      <td>96914</td>\n      <td>1.421</td>\n      <td>False</td>\n      <td>Product</td>\n    </tr>\n    <tr>\n      <th>998</th>\n      <td>Larry</td>\n      <td>Male</td>\n      <td>4/20/2013</td>\n      <td>4:45 PM</td>\n      <td>60500</td>\n      <td>11.985</td>\n      <td>False</td>\n      <td>Business Development</td>\n    </tr>\n    <tr>\n      <th>999</th>\n      <td>Albert</td>\n      <td>Male</td>\n      <td>5/15/2012</td>\n      <td>6:24 PM</td>\n      <td>129949</td>\n      <td>10.169</td>\n      <td>True</td>\n      <td>Sales</td>\n    </tr>\n  </tbody>\n</table>\n<p>1000 rows × 8 columns</p>\n</div>"
          },
          "metadata": {}
        }
      ]
    },
    {
      "cell_type": "code",
      "source": "import numpy as np\n\ndict = {'First Score': [100,90,np.nan,95],\n        'Second Score': [30 , np.nan,45,56],\n        'Third Score': [52,40,80,98],\n        'Fourth Score': [np.nan,np.nan,np.nan,65]\n}\n\ndf = pd.DataFrame(dict)\n\ndf",
      "metadata": {
        "trusted": true
      },
      "execution_count": 60,
      "outputs": [
        {
          "execution_count": 60,
          "output_type": "execute_result",
          "data": {
            "text/plain": "   First Score  Second Score  Third Score  Fourth Score\n0        100.0          30.0           52           NaN\n1         90.0           NaN           40           NaN\n2          NaN          45.0           80           NaN\n3         95.0          56.0           98          65.0",
            "text/html": "<div>\n<style scoped>\n    .dataframe tbody tr th:only-of-type {\n        vertical-align: middle;\n    }\n\n    .dataframe tbody tr th {\n        vertical-align: top;\n    }\n\n    .dataframe thead th {\n        text-align: right;\n    }\n</style>\n<table border=\"1\" class=\"dataframe\">\n  <thead>\n    <tr style=\"text-align: right;\">\n      <th></th>\n      <th>First Score</th>\n      <th>Second Score</th>\n      <th>Third Score</th>\n      <th>Fourth Score</th>\n    </tr>\n  </thead>\n  <tbody>\n    <tr>\n      <th>0</th>\n      <td>100.0</td>\n      <td>30.0</td>\n      <td>52</td>\n      <td>NaN</td>\n    </tr>\n    <tr>\n      <th>1</th>\n      <td>90.0</td>\n      <td>NaN</td>\n      <td>40</td>\n      <td>NaN</td>\n    </tr>\n    <tr>\n      <th>2</th>\n      <td>NaN</td>\n      <td>45.0</td>\n      <td>80</td>\n      <td>NaN</td>\n    </tr>\n    <tr>\n      <th>3</th>\n      <td>95.0</td>\n      <td>56.0</td>\n      <td>98</td>\n      <td>65.0</td>\n    </tr>\n  </tbody>\n</table>\n</div>"
          },
          "metadata": {}
        }
      ]
    },
    {
      "cell_type": "code",
      "source": "df.dropna()",
      "metadata": {
        "trusted": true
      },
      "execution_count": 61,
      "outputs": [
        {
          "execution_count": 61,
          "output_type": "execute_result",
          "data": {
            "text/plain": "   First Score  Second Score  Third Score  Fourth Score\n3         95.0          56.0           98          65.0",
            "text/html": "<div>\n<style scoped>\n    .dataframe tbody tr th:only-of-type {\n        vertical-align: middle;\n    }\n\n    .dataframe tbody tr th {\n        vertical-align: top;\n    }\n\n    .dataframe thead th {\n        text-align: right;\n    }\n</style>\n<table border=\"1\" class=\"dataframe\">\n  <thead>\n    <tr style=\"text-align: right;\">\n      <th></th>\n      <th>First Score</th>\n      <th>Second Score</th>\n      <th>Third Score</th>\n      <th>Fourth Score</th>\n    </tr>\n  </thead>\n  <tbody>\n    <tr>\n      <th>3</th>\n      <td>95.0</td>\n      <td>56.0</td>\n      <td>98</td>\n      <td>65.0</td>\n    </tr>\n  </tbody>\n</table>\n</div>"
          },
          "metadata": {}
        }
      ]
    },
    {
      "cell_type": "markdown",
      "source": "# Exp 1",
      "metadata": {}
    },
    {
      "cell_type": "code",
      "source": "\n# import pandas as pd\nimport pandas as pd\ndf = pd.read_csv(\"uber.csv\")\n\ndf.columns = [ 'key', 'fare_amount', 'pickup_datetime', 'pickup_longitude', 'pickup_latitude', 'dropoff_longitude', 'dropoff_latitude', 'passenger_count']\n# df = df.drop(columns=([\"pickup_longitude\",\"pickup_latitude\" , \"dropoff_longitude\", \"dropoff_latitude\"]))\ndf.head()",
      "metadata": {
        "trusted": true
      },
      "execution_count": 4,
      "outputs": [
        {
          "execution_count": 4,
          "output_type": "execute_result",
          "data": {
            "text/plain": "                                   key  fare_amount          pickup_datetime  \\\n13448846   2011-07-28 18:12:34.0000001          5.7  2011-07-28 18:12:34 UTC   \n39404033   2009-01-03 20:29:50.0000002         16.2  2009-01-03 20:29:50 UTC   \n16758709   2009-11-04 15:21:20.0000001          3.7  2009-11-04 15:21:20 UTC   \n26477142   2014-09-28 19:13:41.0000002          4.0  2014-09-28 19:13:41 UTC   \n53128057  2009-04-11 22:03:00.00000078          6.5  2009-04-11 22:03:00 UTC   \n\n          pickup_longitude  pickup_latitude  dropoff_longitude  \\\n13448846        -73.991995        40.770579         -73.981099   \n39404033        -73.978585        40.736844         -73.936266   \n16758709        -73.993757        40.732639         -73.994850   \n26477142        -73.978058        40.753029         -73.980027   \n53128057        -73.788412        40.647292         -73.980223   \n\n          dropoff_latitude  passenger_count  \n13448846         40.784488                1  \n39404033         40.812318                1  \n16758709         40.728090                1  \n26477142         40.746389                1  \n53128057         40.780482                2  ",
            "text/html": "<div>\n<style scoped>\n    .dataframe tbody tr th:only-of-type {\n        vertical-align: middle;\n    }\n\n    .dataframe tbody tr th {\n        vertical-align: top;\n    }\n\n    .dataframe thead th {\n        text-align: right;\n    }\n</style>\n<table border=\"1\" class=\"dataframe\">\n  <thead>\n    <tr style=\"text-align: right;\">\n      <th></th>\n      <th>key</th>\n      <th>fare_amount</th>\n      <th>pickup_datetime</th>\n      <th>pickup_longitude</th>\n      <th>pickup_latitude</th>\n      <th>dropoff_longitude</th>\n      <th>dropoff_latitude</th>\n      <th>passenger_count</th>\n    </tr>\n  </thead>\n  <tbody>\n    <tr>\n      <th>13448846</th>\n      <td>2011-07-28 18:12:34.0000001</td>\n      <td>5.7</td>\n      <td>2011-07-28 18:12:34 UTC</td>\n      <td>-73.991995</td>\n      <td>40.770579</td>\n      <td>-73.981099</td>\n      <td>40.784488</td>\n      <td>1</td>\n    </tr>\n    <tr>\n      <th>39404033</th>\n      <td>2009-01-03 20:29:50.0000002</td>\n      <td>16.2</td>\n      <td>2009-01-03 20:29:50 UTC</td>\n      <td>-73.978585</td>\n      <td>40.736844</td>\n      <td>-73.936266</td>\n      <td>40.812318</td>\n      <td>1</td>\n    </tr>\n    <tr>\n      <th>16758709</th>\n      <td>2009-11-04 15:21:20.0000001</td>\n      <td>3.7</td>\n      <td>2009-11-04 15:21:20 UTC</td>\n      <td>-73.993757</td>\n      <td>40.732639</td>\n      <td>-73.994850</td>\n      <td>40.728090</td>\n      <td>1</td>\n    </tr>\n    <tr>\n      <th>26477142</th>\n      <td>2014-09-28 19:13:41.0000002</td>\n      <td>4.0</td>\n      <td>2014-09-28 19:13:41 UTC</td>\n      <td>-73.978058</td>\n      <td>40.753029</td>\n      <td>-73.980027</td>\n      <td>40.746389</td>\n      <td>1</td>\n    </tr>\n    <tr>\n      <th>53128057</th>\n      <td>2009-04-11 22:03:00.00000078</td>\n      <td>6.5</td>\n      <td>2009-04-11 22:03:00 UTC</td>\n      <td>-73.788412</td>\n      <td>40.647292</td>\n      <td>-73.980223</td>\n      <td>40.780482</td>\n      <td>2</td>\n    </tr>\n  </tbody>\n</table>\n</div>"
          },
          "metadata": {}
        }
      ]
    },
    {
      "cell_type": "code",
      "source": "def find_outliers_IQR(df):\n    q1=df.quantile(0.25)\n    q3=df.quantile(0.75)\n    IQR = q3 - q1\n    outliers = df[(df < (q1 - 1.5 * IQR) | (df > (q3 + 1.5 * IQR)))]\n    return outliers",
      "metadata": {
        "trusted": true
      },
      "execution_count": 8,
      "outputs": []
    },
    {
      "cell_type": "code",
      "source": "outliers = find_outliers_IQR(df['fare_amount'])\nprint('number of outliers: ' + str(len(outliers)))\nprint('max outliers value: ' + str(outliers.max()))docs.google.com/document/u/0/\nprint('min outliers value: ' + str(outliers.min()))\noutliers",
      "metadata": {
        "trusted": true
      },
      "execution_count": null,
      "outputs": []
    },
    {
      "cell_type": "code",
      "source": "",
      "metadata": {},
      "execution_count": null,
      "outputs": []
    }
  ]
}