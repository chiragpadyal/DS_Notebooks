{
  "nbformat": 4,
  "nbformat_minor": 0,
  "metadata": {
    "colab": {
      "provenance": []
    },
    "kernelspec": {
      "name": "python3",
      "display_name": "Python 3"
    },
    "language_info": {
      "name": "python"
    }
  },
  "cells": [
    {
      "cell_type": "code",
      "source": [
        "!pip install pyspark"
      ],
      "metadata": {
        "colab": {
          "base_uri": "https://localhost:8080/"
        },
        "id": "u1-4u3rkzik_",
        "outputId": "1dd0cac0-b3c8-4038-98bb-365602496e47"
      },
      "execution_count": 1,
      "outputs": [
        {
          "output_type": "stream",
          "name": "stdout",
          "text": [
            "Looking in indexes: https://pypi.org/simple, https://us-python.pkg.dev/colab-wheels/public/simple/\n",
            "Collecting pyspark\n",
            "  Downloading pyspark-3.3.2.tar.gz (281.4 MB)\n",
            "\u001b[2K     \u001b[90m━━━━━━━━━━━━━━━━━━━━━━━━━━━━━━━━━━━━━━━\u001b[0m \u001b[32m281.4/281.4 MB\u001b[0m \u001b[31m4.1 MB/s\u001b[0m eta \u001b[36m0:00:00\u001b[0m\n",
            "\u001b[?25h  Preparing metadata (setup.py) ... \u001b[?25l\u001b[?25hdone\n",
            "Collecting py4j==0.10.9.5\n",
            "  Downloading py4j-0.10.9.5-py2.py3-none-any.whl (199 kB)\n",
            "\u001b[2K     \u001b[90m━━━━━━━━━━━━━━━━━━━━━━━━━━━━━━━━━━━━━━\u001b[0m \u001b[32m199.7/199.7 kB\u001b[0m \u001b[31m14.7 MB/s\u001b[0m eta \u001b[36m0:00:00\u001b[0m\n",
            "\u001b[?25hBuilding wheels for collected packages: pyspark\n",
            "  Building wheel for pyspark (setup.py) ... \u001b[?25l\u001b[?25hdone\n",
            "  Created wheel for pyspark: filename=pyspark-3.3.2-py2.py3-none-any.whl size=281824028 sha256=484e93597624c8bf9454c0395e9e3a529b246e7e9ed38a7ac4b05f6fc089eede\n",
            "  Stored in directory: /root/.cache/pip/wheels/6c/e3/9b/0525ce8a69478916513509d43693511463c6468db0de237c86\n",
            "Successfully built pyspark\n",
            "Installing collected packages: py4j, pyspark\n",
            "  Attempting uninstall: py4j\n",
            "    Found existing installation: py4j 0.10.9.7\n",
            "    Uninstalling py4j-0.10.9.7:\n",
            "      Successfully uninstalled py4j-0.10.9.7\n",
            "Successfully installed py4j-0.10.9.5 pyspark-3.3.2\n"
          ]
        }
      ]
    },
    {
      "cell_type": "code",
      "execution_count": 2,
      "metadata": {
        "colab": {
          "base_uri": "https://localhost:8080/"
        },
        "id": "jIqs58zQzcDh",
        "outputId": "6728d435-bedd-4d74-a47c-4ccc95f8f9f6"
      },
      "outputs": [
        {
          "output_type": "stream",
          "name": "stderr",
          "text": [
            "/usr/local/lib/python3.9/dist-packages/pyspark/sql/context.py:112: FutureWarning: Deprecated in 3.0.0. Use SparkSession.builder.getOrCreate() instead.\n",
            "  warnings.warn(\n"
          ]
        }
      ],
      "source": [
        "# May cause deprecation warnings, safe to ignore, they aren't errors\n",
        "from pyspark import SparkContext\n",
        "from pyspark.streaming import StreamingContext\n",
        "from pyspark.sql import SQLContext\n",
        "from pyspark.sql.functions import desc\n",
        "# Can only run this once. restart your kernel for any errors.\n",
        "sc = SparkContext()\n",
        "\n",
        "ssc = StreamingContext(sc, 10 )\n",
        "sqlContext = SQLContext(sc)\n",
        "socket_stream = ssc.socketTextStream(\"127.0.0.1\", 5554)\n",
        "lines = socket_stream.window( 20 )\n",
        "from collections import namedtuple\n",
        "fields = (\"tag\", \"count\" )\n",
        "Tweet = namedtuple( 'Tweet', fields )\n",
        "# Use Parenthesis for multiple lines or use \\.\n",
        "( lines.flatMap( lambda text: text.split( \" \" ) ) #Splits to a list\n",
        "  .filter( lambda word: word.lower().startswith(\"#\") ) # Checks for hashtag calls\n",
        "  .map( lambda word: ( word.lower(), 1 ) ) # Lower cases the word\n",
        "  .reduceByKey( lambda a, b: a + b ) # Reduces\n",
        "  .map( lambda rec: Tweet( rec[0], rec[1] ) ) # Stores in a Tweet Object\n",
        "  .foreachRDD( lambda rdd: rdd.toDF().sort( desc(\"count\") ) # Sorts Them in a DF\n",
        "  .limit(10).registerTempTable(\"tweets\") ) ) # Registers to a table."
      ]
    },
    {
      "cell_type": "markdown",
      "source": [
        "\n",
        "Now run TweetListener.py"
      ],
      "metadata": {
        "id": "00DofiE4Jetl"
      }
    },
    {
      "cell_type": "code",
      "source": [
        "\n",
        "ssc.start()    "
      ],
      "metadata": {
        "id": "RZJJ9RH3zcxx"
      },
      "execution_count": 3,
      "outputs": []
    },
    {
      "cell_type": "code",
      "source": [
        "import time\n",
        "from IPython import display\n",
        "import matplotlib.pyplot as plt\n",
        "import seaborn as sns\n",
        "# Only works for Jupyter Notebooks!\n",
        "%matplotlib inline "
      ],
      "metadata": {
        "id": "jIBzNkkdLBXV"
      },
      "execution_count": 4,
      "outputs": []
    },
    {
      "cell_type": "code",
      "source": [
        "count = 0\n",
        "while count < 10:\n",
        "    \n",
        "    time.sleep( 3 )\n",
        "    top_10_tweets = sqlContext.sql( 'Select tag, count from tweets' )\n",
        "    top_10_df = top_10_tweets.toPandas()\n",
        "    display.clear_output(wait=True)\n",
        "    plt.figure( figsize = ( 10, 8 ) )\n",
        "#     sns.barplot(x='count',y='land_cover_specific', data=df, palette='Spectral')\n",
        "    sns.barplot( x=\"count\", y=\"tag\", data=top_10_df)\n",
        "    plt.show()\n",
        "    count = count + 1"
      ],
      "metadata": {
        "id": "z37hjD5aLSFy"
      },
      "execution_count": null,
      "outputs": []
    },
    {
      "cell_type": "markdown",
      "source": [
        "![image.png](data:image/png;base64,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)"
      ],
      "metadata": {
        "id": "gT-lMcmyLYEP"
      }
    },
    {
      "cell_type": "code",
      "source": [
        "ssc.stop()"
      ],
      "metadata": {
        "id": "YJoVAPUFLfNK"
      },
      "execution_count": null,
      "outputs": []
    }
  ]
}